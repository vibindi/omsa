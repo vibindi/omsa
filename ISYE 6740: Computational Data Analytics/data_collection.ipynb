{
 "cells": [
  {
   "cell_type": "code",
   "execution_count": 3,
   "id": "01cf4ffb",
   "metadata": {},
   "outputs": [],
   "source": [
    "import requests"
   ]
  },
  {
   "cell_type": "code",
   "execution_count": 6,
   "id": "16b41d40",
   "metadata": {},
   "outputs": [],
   "source": [
    "years = list(range(1985, 2026))\n",
    "years.remove(2020)"
   ]
  },
  {
   "cell_type": "markdown",
   "id": "29278818",
   "metadata": {},
   "source": [
    "## Tournament Data"
   ]
  },
  {
   "cell_type": "code",
   "execution_count": null,
   "id": "79245994",
   "metadata": {},
   "outputs": [],
   "source": [
    "url_tournament = \"https://www.sports-reference.com/cbb/postseason/men/{}-ncaa.html\"\n",
    "\n",
    "for year in years:\n",
    "    url = url_tournament.format(year)\n",
    "    \n",
    "    data = requests.get(url)\n",
    "    \n",
    "    with open(f\"tournament/{year}.html\", \"w+\") as f:\n",
    "        f.write(data.text)"
   ]
  },
  {
   "cell_type": "markdown",
   "id": "8e0fe48c",
   "metadata": {},
   "source": [
    "## Season Data"
   ]
  },
  {
   "cell_type": "code",
   "execution_count": null,
   "id": "fc865668",
   "metadata": {},
   "outputs": [],
   "source": [
    "url_season = \"https://www.sports-reference.com/cbb/seasons/men/{}-standings.html\"\n",
    "\n",
    "for year in years:\n",
    "    url = url_season.format(year)\n",
    "    \n",
    "    data = requests.get(url)\n",
    "    \n",
    "    with open(f\"season/{year}.html\", \"w+\") as f:\n",
    "        f.write(data.text)"
   ]
  },
  {
   "cell_type": "markdown",
   "id": "b863f863",
   "metadata": {},
   "source": [
    "## Yearly Stat Leaders Data"
   ]
  },
  {
   "cell_type": "code",
   "execution_count": 22,
   "id": "5564f8a5",
   "metadata": {},
   "outputs": [],
   "source": [
    "url_leader = \"https://www.sports-reference.com/cbb/leaders/men/{}-player-season.html\"\n",
    "leader_types = [\n",
    "    'pts', # points\n",
    "    'trb', # total rebounds\n",
    "    'ast', # assists\n",
    "    'stl', # steals\n",
    "    'blk', # blocks\n",
    "    'pts-per-g', # points per game\n",
    "    'trb-per-g', # total rebounds per game\n",
    "    'ast-per-g', # assists per game\n",
    "    'stl-per-g', # steals per game\n",
    "    'blk-per-g', # blocks per game\n",
    "]\n",
    "for u in leader_types[0:]:\n",
    "    url = url_leader.format(u)\n",
    "    data = requests.get(url, timeout=5)\n",
    "\n",
    "    with open(f\"leaders/{u}.html\", \"w+\") as f:\n",
    "        f.write(data.text)"
   ]
  },
  {
   "cell_type": "markdown",
   "id": "c2a75a32",
   "metadata": {},
   "source": [
    "## AP Player of the Year Data"
   ]
  },
  {
   "cell_type": "code",
   "execution_count": 16,
   "id": "f77be292",
   "metadata": {},
   "outputs": [],
   "source": [
    "url_poy = \"https://www.sports-reference.com/cbb/awards/men/ap-poy.html\"\n",
    "    \n",
    "data = requests.get(url_poy)\n",
    "\n",
    "with open(f\"other/poy.html\", \"w+\") as f:\n",
    "    f.write(data.text)"
   ]
  }
 ],
 "metadata": {
  "kernelspec": {
   "display_name": "base",
   "language": "python",
   "name": "python3"
  },
  "language_info": {
   "codemirror_mode": {
    "name": "ipython",
    "version": 3
   },
   "file_extension": ".py",
   "mimetype": "text/x-python",
   "name": "python",
   "nbconvert_exporter": "python",
   "pygments_lexer": "ipython3",
   "version": "3.12.7"
  }
 },
 "nbformat": 4,
 "nbformat_minor": 5
}
